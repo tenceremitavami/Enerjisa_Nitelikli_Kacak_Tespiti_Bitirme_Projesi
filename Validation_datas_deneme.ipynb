{
 "cells": [
  {
   "cell_type": "markdown",
   "metadata": {},
   "source": [
    "### Patika & EnerjiSA Veri Bilimi ve Analitiği Bootcamp Bitirme Projesi Grup-2\n",
    "- Fatma Nur USLUER\n",
    "\n",
    "- Furkan KILINÇ\n",
    "\n",
    "- Gülşah UĞUR\n",
    "\n",
    "- Mustafacan GENÇGÜL\n",
    "\n",
    "- Uğur Selim ÖZEN\n"
   ]
  },
  {
   "cell_type": "code",
   "execution_count": 1,
   "metadata": {},
   "outputs": [],
   "source": [
    "# Kütüphanelerin import edilmesi\n",
    "import numpy as np\n",
    "import pandas as pd\n",
    "import matplotlib.pyplot as plt\n",
    "import seaborn as sns\n",
    "import datetime as dt\n",
    "\n",
    "from sklearn.model_selection import train_test_split\n",
    "from sklearn.linear_model import LogisticRegression\n",
    "from sklearn.metrics import classification_report\n",
    "from sklearn.tree import DecisionTreeClassifier\n",
    "from sklearn.metrics import accuracy_score\n",
    "from sklearn.model_selection import GridSearchCV\n",
    "from sklearn.svm import SVC\n",
    "from sklearn.metrics import confusion_matrix\n",
    "from sklearn.preprocessing import StandardScaler, OneHotEncoder\n",
    "from sklearn.compose import make_column_transformer\n",
    "\n",
    "from imblearn.over_sampling import SMOTE\n",
    "from imblearn.under_sampling import RandomUnderSampler\n",
    "from imblearn.pipeline import Pipeline\n",
    "from sklearn.ensemble import RandomForestClassifier\n",
    "from sklearn.preprocessing import LabelEncoder\n",
    "import random\n",
    "from catboost import CatBoostClassifier, Pool"
   ]
  },
  {
   "cell_type": "code",
   "execution_count": 2,
   "metadata": {},
   "outputs": [],
   "source": [
    "def sayac_model(df):\n",
    "    SAYAC_MODEL_DICT = {'LUN10-B' : \"%20\", 'AEL.TF.16-2' : \"%20\", 'LUN23 TF' : \"%20\", 'EC058MCT' : '%6-8', \n",
    "                        'LSM-35': '%6-8', 'VEM-T5100DB0E': '%6-8', 'T510.2251': '%6-8', 'M500.2211': '%6-8',\n",
    "                        'LUN10' : '%3-5', 'EC058MBW' : '%3-5', 'VEM-M580DB0E' : '%3-5', 'VEM-M580DB0' :  '%3-5',\n",
    "                        'LUN21' :  '%3-5', 'EC25TPA3CHB' :  '%3-5', 'VEM-T5100DB0' :  '%3-5', 'LUN1' : '%1-3', \n",
    "                        'EC018MBW': '%1-3', 'AEL.MF.07': '%1-3', 'EC15ATBW': '%1-3', 'M500.2251': '%1-3', \n",
    "                        'M310.2218': '%1-3', 'M550.2251': '%1-3', 'EC11ATBW': '%1-3', 'AEL.TF.16': '%1-3','EKSIK': 'EKSIK'}\n",
    "    \n",
    "    df.loc[df.SAYAC_MODEL.isnull(),[\"SAYAC_MODEL\"]] = 'EKSIK'\n",
    "    df[\"SAYAC_MODEL_group\"] = df.SAYAC_MODEL.map(SAYAC_MODEL_DICT)\n",
    "    df.loc[df.SAYAC_MODEL_group.isnull(),[\"SAYAC_MODEL_group\"]] = \"DIGER\"\n",
    "    return df[\"SAYAC_MODEL_group\"]"
   ]
  },
  {
   "cell_type": "code",
   "execution_count": 3,
   "metadata": {},
   "outputs": [],
   "source": [
    "def sayac_yas(df, yıl = 2021):\n",
    "    imb = df['SAYAC_YAPIM_YILI'].unique()\n",
    "    for i in imb:\n",
    "        df['SAYAC_YAS'] = yıl - df['SAYAC_YAPIM_YILI']\n",
    "    df.loc[df['SAYAC_YAS'] <= 0, ['SAYAC_YAS']] = 1\n",
    "    df.loc[df['SAYAC_YAS'] > 4, ['SAYAC_YAS']] = 14\n",
    "    df['SAYAC_YAS'].fillna(99,inplace=True)\n",
    "    \n",
    "    df['SAYAC_YAS'].fillna(99,inplace=True)\n",
    "    df[\"SAYAC_YAS\"].replace({1 : \"0-3 YAŞ\", 2 : \"0-3 YAŞ\", 3 : \"0-3 YAŞ\", 4 : '4 YAŞ',  5 : '4+ YAŞ',\n",
    "                                          6 : '4+ YAŞ', 7 : '4+ YAŞ', 8 : '4+ YAŞ', 9 : '4+ YAŞ', 10 : '4+ YAŞ', \n",
    "                                          11 : '4+ YAŞ', 12 : '4+ YAŞ', 13 : '4+ YAŞ', 14 : '4+ YAŞ', 99 : 'EKSIK'}, \n",
    "                                         inplace=True)\n",
    "    return df[\"SAYAC_YAS\"]"
   ]
  },
  {
   "cell_type": "code",
   "execution_count": 4,
   "metadata": {},
   "outputs": [],
   "source": [
    "def abonelik_suresi(df):\n",
    "    df[\"GUNCEL_TARIH\"] = np.datetime64(\"2021-11-04\")\n",
    "    df[\"ABONELIK_SURESI\"] = round((df[\"GUNCEL_TARIH\"] - df.SAYAC_BASLANGIC_TARIHI).dt.days / 30)\n",
    "    df['ABONELIK_SURESI'] = df['ABONELIK_SURESI'].fillna(500)\n",
    "    return df['ABONELIK_SURESI']"
   ]
  },
  {
   "cell_type": "code",
   "execution_count": 5,
   "metadata": {},
   "outputs": [],
   "source": [
    "def demand_duzenleme(df):\n",
    "    #demand 1 boş ise demand 2'deki değere eşitle\n",
    "    df.loc[df.iloc[:, 24].isnull(), [df.iloc[:, 24].name]] = df[df.iloc[:, 24].isnull()].iloc[:, 25].tolist()\n",
    "    #demeand 12 boş ise demand 11'deki değere eşitle\n",
    "    df.loc[df.iloc[:, 35].isnull(), [df.iloc[:, 35].name]] = df[df.iloc[:, 35].isnull()].iloc[:, 34].tolist()\n",
    "    #demand 2 ile 11 arasındaki boşlukları önceki ve sonraki demand ortalamasına eşitle\n",
    "    for i in range(25,35):\n",
    "        sutun = df.iloc[:, i]\n",
    "        onceki_sutun = df[sutun.isnull()].iloc[:, i-1].tolist()\n",
    "        sonraki_sutun = df[sutun.isnull()].iloc[:, i+1].tolist()\n",
    "        df.loc[sutun.isnull(), [sutun.name]] = np.array(onceki_sutun) + np.array(sonraki_sutun) / 2\n",
    "    #her bir satırın kalan bos demandlarını o satırın ortalama demandine eşitle \n",
    "    for i in range(24,36):\n",
    "        sutun = df.iloc[:, i]\n",
    "        df.loc[sutun.isnull(), [sutun.name]] = df.iloc[:, 24:35].mean(axis=1)\n",
    "    #hiçbir tüketim değeri yok ise 999_999'a eşitle\n",
    "    for i in range(24,36):\n",
    "        sutun = df.iloc[:, i]\n",
    "        df[sutun.name].fillna(999999, inplace=True)\n",
    "    return df"
   ]
  },
  {
   "cell_type": "code",
   "execution_count": 6,
   "metadata": {},
   "outputs": [],
   "source": [
    "def modele_hazır_hale_getir(df):\n",
    "    df[\"SAYAC_MODEL_group\"] = sayac_model(df)\n",
    "    df[\"SAYAC_YAS\"] = sayac_yas(df)\n",
    "    df[\"ABONELIK_SURESI\"] = abonelik_suresi(df)\n",
    "    df = demand_duzenleme(df)\n",
    "    df[\"TUKETIM_std\"] = df.iloc[:, 0:24].std(axis=1)\n",
    "    df[\"DEMAND_std\"] = df.iloc[:, 24:36].std(axis=1)\n",
    "    df = df[[\"TUKETIM_M1\", \"TUKETIM_M2\", \"TUKETIM_M3\",\n",
    "                               \"TUKETIM_M4\", \"TUKETIM_M5\", \"TUKETIM_M6\",\n",
    "                               \"TUKETIM_M7\", \"TUKETIM_M8\", \"TUKETIM_M9\",\n",
    "                               \"TUKETIM_M10\", \"TUKETIM_M11\", \"TUKETIM_M12\", \n",
    "                               \"TUKETIM_M13\", \"TUKETIM_M14\", \"TUKETIM_M15\",\n",
    "                               \"TUKETIM_M16\", \"TUKETIM_M17\", \"TUKETIM_M18\", \n",
    "                               \"TUKETIM_M19\", \"TUKETIM_M20\", \"TUKETIM_M21\", \n",
    "                               \"TUKETIM_M22\",\"TUKETIM_M23\", \"TUKETIM_M24\",\n",
    "                                   \n",
    "                               \"DEMAND_M1\", \"DEMAND_M2\", \"DEMAND_M3\",\n",
    "                               \"DEMAND_M4\", \"DEMAND_M5\", \"DEMAND_M6\",\n",
    "                               \"DEMAND_M7\",\"DEMAND_M8\",\"DEMAND_M9\",\n",
    "                               \"DEMAND_M10\",\"DEMAND_M11\",\"DEMAND_M12\",\n",
    "                                   \n",
    "                               \"TESISAT_TIPI\", \"TUKETIM_std\", \"DEMAND_std\",              \n",
    "                               \"SAYAC_YAS\", \"SAYAC_MODEL_group\",\n",
    "                               \"SOB_RISK_SKORU\", \"SOKAK_RISK_SKORU\", \"MAHALLE_RISK_SKORU\",\n",
    "                               \"ABONELIK_SURESI\", \"NK_FLAG\"]]\n",
    "    df.fillna(0, inplace=True)\n",
    "    return df"
   ]
  },
  {
   "cell_type": "code",
   "execution_count": 7,
   "metadata": {},
   "outputs": [],
   "source": [
    "def encoding(model_df, validation_df, cat_cols):\n",
    "        ohe = OneHotEncoder(handle_unknown='ignore', dtype=\"int64\")\n",
    "        ct = make_column_transformer((ohe, cat_cols), remainder=\"passthrough\")\n",
    "        \n",
    "        train_testData = model_df\n",
    "        train_testData = pd.DataFrame(ct.fit_transform(train_testData), columns=ct.get_feature_names())\n",
    "        \n",
    "        valData = validation_df\n",
    "        valData = pd.DataFrame(ct.transform(valData), columns=ct.get_feature_names())\n",
    "\n",
    "        X = train_testData.drop(\"NK_FLAG\", 1)\n",
    "        y = train_testData.NK_FLAG\n",
    "\n",
    "        X_val = valData.drop(\"NK_FLAG\", 1)\n",
    "        y_val = valData.NK_FLAG\n",
    "        return X, y, X_val, y_val"
   ]
  },
  {
   "cell_type": "code",
   "execution_count": 8,
   "metadata": {},
   "outputs": [],
   "source": [
    "def model(random_sample, X, y, oversample = True):\n",
    "    if oversample == True:\n",
    "        oversample = SMOTE(sampling_strategy=1, random_state=42)\n",
    "        X_over, y_over = oversample.fit_resample(X, y)\n",
    "        cbc=CatBoostClassifier(n_estimators = 150, max_depth = 5, verbose = 0 ,learning_rate = 0.12, random_state = random_sample)\n",
    "        cbc.fit(X_over, y_over)\n",
    "    else:\n",
    "        cbc=CatBoostClassifier(n_estimators = 150, max_depth = 5, verbose = 0 ,learning_rate = 0.12, random_state = random_sample)\n",
    "        cbc.fit(X, y)\n",
    "    return cbc"
   ]
  },
  {
   "cell_type": "code",
   "execution_count": 9,
   "metadata": {},
   "outputs": [],
   "source": [
    "def kacak_tahmin_modeli(random_sample, model_df, validation_df, threshold, oversample = True):\n",
    "    \n",
    "        model_df = modele_hazır_hale_getir(model_df)\n",
    "        validation_df = modele_hazır_hale_getir(validation_df)\n",
    "        \n",
    "        cat_cols =[\"TESISAT_TIPI\", \"SAYAC_YAS\" ,\"SAYAC_MODEL_group\"]\n",
    "        X, y, X_val, y_val = encoding(model_df, validation_df, cat_cols)\n",
    "\n",
    "        cbc = model(random_sample, X, y, oversample)\n",
    "        \n",
    "        preds = (cbc.predict_proba(X_val)[:,1] >= threshold).astype(\"int\")\n",
    "        score = cbc.score(X_val, y_val)\n",
    "        print(score*100)\n",
    "        print(classification_report(y_val, preds))\n",
    "        cm = confusion_matrix(y_val, preds)\n",
    "        return cm, preds"
   ]
  },
  {
   "cell_type": "code",
   "execution_count": 10,
   "metadata": {},
   "outputs": [],
   "source": [
    "main_df = pd.read_excel(\"train_5.xlsx\")"
   ]
  },
  {
   "cell_type": "code",
   "execution_count": 11,
   "metadata": {},
   "outputs": [],
   "source": [
    "Test_Data = pd.read_excel(\"Test_Data.xlsx\")"
   ]
  },
  {
   "cell_type": "code",
   "execution_count": 12,
   "metadata": {},
   "outputs": [],
   "source": [
    "Test_Data_Actual = pd.read_excel(\"Test_Data_Actual.xlsx\")\n",
    "Test_Data_Actual.drop(\"ID\", axis=1, inplace=True)"
   ]
  },
  {
   "cell_type": "code",
   "execution_count": 13,
   "metadata": {},
   "outputs": [],
   "source": [
    "Test_Data[\"NK_FLAG\"] = Test_Data_Actual\n",
    "index = Test_Data[\"INDEX\"]\n",
    "Test_Data.drop(\"INDEX\", axis=1, inplace=True)"
   ]
  },
  {
   "cell_type": "code",
   "execution_count": 14,
   "metadata": {},
   "outputs": [],
   "source": [
    "valData = Test_Data\n",
    "train_testData = main_df"
   ]
  },
  {
   "cell_type": "code",
   "execution_count": 15,
   "metadata": {},
   "outputs": [
    {
     "name": "stderr",
     "output_type": "stream",
     "text": [
      "C:\\Users\\Furkan\\anaconda3\\lib\\site-packages\\pandas\\core\\frame.py:4462: SettingWithCopyWarning: \n",
      "A value is trying to be set on a copy of a slice from a DataFrame\n",
      "\n",
      "See the caveats in the documentation: https://pandas.pydata.org/pandas-docs/stable/user_guide/indexing.html#returning-a-view-versus-a-copy\n",
      "  return super().fillna(\n",
      "C:\\Users\\Furkan\\anaconda3\\lib\\site-packages\\pandas\\core\\frame.py:4462: SettingWithCopyWarning: \n",
      "A value is trying to be set on a copy of a slice from a DataFrame\n",
      "\n",
      "See the caveats in the documentation: https://pandas.pydata.org/pandas-docs/stable/user_guide/indexing.html#returning-a-view-versus-a-copy\n",
      "  return super().fillna(\n",
      "C:\\Users\\Furkan\\anaconda3\\lib\\site-packages\\sklearn\\utils\\deprecation.py:87: FutureWarning: Function get_feature_names is deprecated; get_feature_names is deprecated in 1.0 and will be removed in 1.2. Please use get_feature_names_out instead.\n",
      "  warnings.warn(msg, category=FutureWarning)\n",
      "C:\\Users\\Furkan\\anaconda3\\lib\\site-packages\\sklearn\\utils\\deprecation.py:87: FutureWarning: Function get_feature_names is deprecated; get_feature_names is deprecated in 1.0 and will be removed in 1.2. Please use get_feature_names_out instead.\n",
      "  warnings.warn(msg, category=FutureWarning)\n"
     ]
    },
    {
     "name": "stdout",
     "output_type": "stream",
     "text": [
      "96.41999999999999\n",
      "              precision    recall  f1-score   support\n",
      "\n",
      "         0.0       0.98      0.98      0.98      4687\n",
      "         1.0       0.70      0.76      0.73       313\n",
      "\n",
      "    accuracy                           0.96      5000\n",
      "   macro avg       0.84      0.87      0.85      5000\n",
      "weighted avg       0.97      0.96      0.96      5000\n",
      "\n"
     ]
    },
    {
     "data": {
      "text/plain": [
       "<AxesSubplot:>"
      ]
     },
     "execution_count": 15,
     "metadata": {},
     "output_type": "execute_result"
    },
    {
     "data": {
      "image/png": "[encoded data removed]",
      "text/plain": [
       "<Figure size 432x288 with 2 Axes>"
      ]
     },
     "metadata": {
      "needs_background": "light"
     },
     "output_type": "display_data"
    }
   ],
   "source": [
    "cm, preds = kacak_tahmin_modeli(random_sample = 17, model_df = train_testData, validation_df = valData, threshold = 0.5, oversample = True)\n",
    "sns.heatmap(cm, annot=True)"
   ]
  },
  {
   "cell_type": "code",
   "execution_count": 16,
   "metadata": {},
   "outputs": [],
   "source": [
    "data = {\"index\": index, \"preds\": pd.Series(preds)}\n",
    "pd.DataFrame(data).to_excel(\"prediction.xlsx\")"
   ]
  },
  {
   "cell_type": "code",
   "execution_count": null,
   "metadata": {},
   "outputs": [],
   "source": []
  }
 ],
 "metadata": {
  "kernelspec": {
   "display_name": "Python 3",
   "language": "python",
   "name": "python3"
  },
  "language_info": {
   "codemirror_mode": {
    "name": "ipython",
    "version": 3
   },
   "file_extension": ".py",
   "mimetype": "text/x-python",
   "name": "python",
   "nbconvert_exporter": "python",
   "pygments_lexer": "ipython3",
   "version": "3.8.8"
  }
 },
 "nbformat": 4,
 "nbformat_minor": 4
}
